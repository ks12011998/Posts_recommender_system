{
  "nbformat": 4,
  "nbformat_minor": 0,
  "metadata": {
    "colab": {
      "name": "Social_Comment",
      "provenance": [],
      "collapsed_sections": []
    },
    "kernelspec": {
      "name": "python3",
      "display_name": "Python 3"
    }
  },
  "cells": [
    {
      "cell_type": "code",
      "metadata": {
        "id": "VjmlMwUl_785",
        "colab_type": "code",
        "outputId": "e7e651f2-b621-41f9-ac2b-147dbfa53556",
        "colab": {
          "base_uri": "https://localhost:8080/",
          "height": 424
        }
      },
      "source": [
        "#Importing the required libraries\n",
        "import numpy as np\n",
        "import pandas as pd\n",
        "\n",
        "df1 = pd.read_csv('/content/drive/My Drive/Social_comment/Mldata/users.csv')\n",
        "df2 = pd.read_csv('/content/drive/My Drive/Social_comment/Mldata/views.csv')\n",
        "\n",
        "df1"
      ],
      "execution_count": 2,
      "outputs": [
        {
          "output_type": "execute_result",
          "data": {
            "text/html": [
              "<div>\n",
              "<style scoped>\n",
              "    .dataframe tbody tr th:only-of-type {\n",
              "        vertical-align: middle;\n",
              "    }\n",
              "\n",
              "    .dataframe tbody tr th {\n",
              "        vertical-align: top;\n",
              "    }\n",
              "\n",
              "    .dataframe thead th {\n",
              "        text-align: right;\n",
              "    }\n",
              "</style>\n",
              "<table border=\"1\" class=\"dataframe\">\n",
              "  <thead>\n",
              "    <tr style=\"text-align: right;\">\n",
              "      <th></th>\n",
              "      <th>_id</th>\n",
              "      <th>name</th>\n",
              "      <th>gender</th>\n",
              "      <th>academics</th>\n",
              "    </tr>\n",
              "  </thead>\n",
              "  <tbody>\n",
              "    <tr>\n",
              "      <th>0</th>\n",
              "      <td>5d60098a653a331687083238</td>\n",
              "      <td>Nivesh Singh Chauhan</td>\n",
              "      <td>male</td>\n",
              "      <td>undergraduate</td>\n",
              "    </tr>\n",
              "    <tr>\n",
              "      <th>1</th>\n",
              "      <td>5d610ae1653a331687083239</td>\n",
              "      <td>Gaurav Sharma</td>\n",
              "      <td>male</td>\n",
              "      <td>graduate</td>\n",
              "    </tr>\n",
              "    <tr>\n",
              "      <th>2</th>\n",
              "      <td>5d618359fc5fcf3bdd9a0910</td>\n",
              "      <td>Akshay Mishra</td>\n",
              "      <td>male</td>\n",
              "      <td>undergraduate</td>\n",
              "    </tr>\n",
              "    <tr>\n",
              "      <th>3</th>\n",
              "      <td>5d6d2bb87fa40e1417a49315</td>\n",
              "      <td>Saksham Mathur</td>\n",
              "      <td>male</td>\n",
              "      <td>undergraduate</td>\n",
              "    </tr>\n",
              "    <tr>\n",
              "      <th>4</th>\n",
              "      <td>5d7c994d5720533e15c3b1e9</td>\n",
              "      <td>Varun Chowhan</td>\n",
              "      <td>male</td>\n",
              "      <td>undergraduate</td>\n",
              "    </tr>\n",
              "    <tr>\n",
              "      <th>...</th>\n",
              "      <td>...</td>\n",
              "      <td>...</td>\n",
              "      <td>...</td>\n",
              "      <td>...</td>\n",
              "    </tr>\n",
              "    <tr>\n",
              "      <th>113</th>\n",
              "      <td>5ed35aa376027d35905cca67</td>\n",
              "      <td>Steve</td>\n",
              "      <td>male</td>\n",
              "      <td>graduate</td>\n",
              "    </tr>\n",
              "    <tr>\n",
              "      <th>114</th>\n",
              "      <td>5ed3737976027d35905ccaa2</td>\n",
              "      <td>Himanshu Singh</td>\n",
              "      <td>male</td>\n",
              "      <td>undergraduate</td>\n",
              "    </tr>\n",
              "    <tr>\n",
              "      <th>115</th>\n",
              "      <td>5ed3748576027d35905ccaab</td>\n",
              "      <td>Parth Vijay</td>\n",
              "      <td>male</td>\n",
              "      <td>undergraduate</td>\n",
              "    </tr>\n",
              "    <tr>\n",
              "      <th>116</th>\n",
              "      <td>5ed3cbcbbd514d602c1530a7</td>\n",
              "      <td>Abhishek Mishra</td>\n",
              "      <td>male</td>\n",
              "      <td>undergraduate</td>\n",
              "    </tr>\n",
              "    <tr>\n",
              "      <th>117</th>\n",
              "      <td>5ed3e898bd514d602c1530de</td>\n",
              "      <td>gauri raskar</td>\n",
              "      <td>female</td>\n",
              "      <td>graduate</td>\n",
              "    </tr>\n",
              "  </tbody>\n",
              "</table>\n",
              "<p>118 rows × 4 columns</p>\n",
              "</div>"
            ],
            "text/plain": [
              "                          _id                  name  gender      academics\n",
              "0    5d60098a653a331687083238  Nivesh Singh Chauhan    male  undergraduate\n",
              "1    5d610ae1653a331687083239         Gaurav Sharma    male       graduate\n",
              "2    5d618359fc5fcf3bdd9a0910         Akshay Mishra    male  undergraduate\n",
              "3    5d6d2bb87fa40e1417a49315        Saksham Mathur    male  undergraduate\n",
              "4    5d7c994d5720533e15c3b1e9         Varun Chowhan    male  undergraduate\n",
              "..                        ...                   ...     ...            ...\n",
              "113  5ed35aa376027d35905cca67                 Steve    male       graduate\n",
              "114  5ed3737976027d35905ccaa2        Himanshu Singh    male  undergraduate\n",
              "115  5ed3748576027d35905ccaab           Parth Vijay    male  undergraduate\n",
              "116  5ed3cbcbbd514d602c1530a7       Abhishek Mishra    male  undergraduate\n",
              "117  5ed3e898bd514d602c1530de          gauri raskar  female       graduate\n",
              "\n",
              "[118 rows x 4 columns]"
            ]
          },
          "metadata": {
            "tags": []
          },
          "execution_count": 2
        }
      ]
    },
    {
      "cell_type": "code",
      "metadata": {
        "id": "32hLlLR4DoeI",
        "colab_type": "code",
        "outputId": "8fdc149a-210b-4970-bc4d-7a4f11bdaa22",
        "colab": {
          "base_uri": "https://localhost:8080/",
          "height": 424
        }
      },
      "source": [
        "df2"
      ],
      "execution_count": 3,
      "outputs": [
        {
          "output_type": "execute_result",
          "data": {
            "text/html": [
              "<div>\n",
              "<style scoped>\n",
              "    .dataframe tbody tr th:only-of-type {\n",
              "        vertical-align: middle;\n",
              "    }\n",
              "\n",
              "    .dataframe tbody tr th {\n",
              "        vertical-align: top;\n",
              "    }\n",
              "\n",
              "    .dataframe thead th {\n",
              "        text-align: right;\n",
              "    }\n",
              "</style>\n",
              "<table border=\"1\" class=\"dataframe\">\n",
              "  <thead>\n",
              "    <tr style=\"text-align: right;\">\n",
              "      <th></th>\n",
              "      <th>user_id</th>\n",
              "      <th>post_id</th>\n",
              "      <th>timestamp</th>\n",
              "    </tr>\n",
              "  </thead>\n",
              "  <tbody>\n",
              "    <tr>\n",
              "      <th>0</th>\n",
              "      <td>5df49b32cc709107827fb3c7</td>\n",
              "      <td>5ec821ddec493f4a2655889e</td>\n",
              "      <td>2020-06-01T10:46:45.131Z</td>\n",
              "    </tr>\n",
              "    <tr>\n",
              "      <th>1</th>\n",
              "      <td>5ed3748576027d35905ccaab</td>\n",
              "      <td>5ed4cbadbd514d602c1531a6</td>\n",
              "      <td>2020-06-01T09:39:20.021Z</td>\n",
              "    </tr>\n",
              "    <tr>\n",
              "      <th>2</th>\n",
              "      <td>5ed0defa76027d35905cc2de</td>\n",
              "      <td>5eac305f10426255a7aa9dd3</td>\n",
              "      <td>2020-06-01T08:12:42.682Z</td>\n",
              "    </tr>\n",
              "    <tr>\n",
              "      <th>3</th>\n",
              "      <td>5ed0defa76027d35905cc2de</td>\n",
              "      <td>5ed1ff0276027d35905cc60d</td>\n",
              "      <td>2020-06-01T08:10:23.880Z</td>\n",
              "    </tr>\n",
              "    <tr>\n",
              "      <th>4</th>\n",
              "      <td>5ed0defa76027d35905cc2de</td>\n",
              "      <td>5ed3820f76027d35905ccac8</td>\n",
              "      <td>2020-06-01T08:08:54.124Z</td>\n",
              "    </tr>\n",
              "    <tr>\n",
              "      <th>...</th>\n",
              "      <td>...</td>\n",
              "      <td>...</td>\n",
              "      <td>...</td>\n",
              "    </tr>\n",
              "    <tr>\n",
              "      <th>1444</th>\n",
              "      <td>5d60098a653a331687083238</td>\n",
              "      <td>5e7a60edcfc8b713f5ac7d82</td>\n",
              "      <td>2020-03-26T19:03:55.284Z</td>\n",
              "    </tr>\n",
              "    <tr>\n",
              "      <th>1445</th>\n",
              "      <td>5d60098a653a331687083238</td>\n",
              "      <td>5e7a629ccfc8b713f5ac7d84</td>\n",
              "      <td>2020-03-26T19:01:42.384Z</td>\n",
              "    </tr>\n",
              "    <tr>\n",
              "      <th>1446</th>\n",
              "      <td>5d60098a653a331687083238</td>\n",
              "      <td>5e7b1e65cfc8b713f5ac7d90</td>\n",
              "      <td>2020-03-26T19:00:25.693Z</td>\n",
              "    </tr>\n",
              "    <tr>\n",
              "      <th>1447</th>\n",
              "      <td>5d60098a653a331687083238</td>\n",
              "      <td>5e7cc074cfc8b713f5ac7db0</td>\n",
              "      <td>2020-03-26T18:49:14.721Z</td>\n",
              "    </tr>\n",
              "    <tr>\n",
              "      <th>1448</th>\n",
              "      <td>5d60098a653a331687083238</td>\n",
              "      <td>5e1029f22a37d20505da2a79</td>\n",
              "      <td>2020-03-26T18:25:45.637Z</td>\n",
              "    </tr>\n",
              "  </tbody>\n",
              "</table>\n",
              "<p>1449 rows × 3 columns</p>\n",
              "</div>"
            ],
            "text/plain": [
              "                       user_id  ...                 timestamp\n",
              "0     5df49b32cc709107827fb3c7  ...  2020-06-01T10:46:45.131Z\n",
              "1     5ed3748576027d35905ccaab  ...  2020-06-01T09:39:20.021Z\n",
              "2     5ed0defa76027d35905cc2de  ...  2020-06-01T08:12:42.682Z\n",
              "3     5ed0defa76027d35905cc2de  ...  2020-06-01T08:10:23.880Z\n",
              "4     5ed0defa76027d35905cc2de  ...  2020-06-01T08:08:54.124Z\n",
              "...                        ...  ...                       ...\n",
              "1444  5d60098a653a331687083238  ...  2020-03-26T19:03:55.284Z\n",
              "1445  5d60098a653a331687083238  ...  2020-03-26T19:01:42.384Z\n",
              "1446  5d60098a653a331687083238  ...  2020-03-26T19:00:25.693Z\n",
              "1447  5d60098a653a331687083238  ...  2020-03-26T18:49:14.721Z\n",
              "1448  5d60098a653a331687083238  ...  2020-03-26T18:25:45.637Z\n",
              "\n",
              "[1449 rows x 3 columns]"
            ]
          },
          "metadata": {
            "tags": []
          },
          "execution_count": 3
        }
      ]
    },
    {
      "cell_type": "code",
      "metadata": {
        "id": "ShRVsxdmE6bw",
        "colab_type": "code",
        "colab": {}
      },
      "source": [
        "#Dataframe merging steps\n",
        "df2\n",
        "df2.rename(columns = {'user_id':'_id'}, inplace = True) "
      ],
      "execution_count": 0,
      "outputs": []
    },
    {
      "cell_type": "code",
      "metadata": {
        "id": "ZlbGXnwMFOZD",
        "colab_type": "code",
        "outputId": "e09d7ecf-6370-4e03-b098-1e48505e42ef",
        "colab": {
          "base_uri": "https://localhost:8080/",
          "height": 424
        }
      },
      "source": [
        "df = df1.merge(df2, on='_id')\n",
        "df"
      ],
      "execution_count": 5,
      "outputs": [
        {
          "output_type": "execute_result",
          "data": {
            "text/html": [
              "<div>\n",
              "<style scoped>\n",
              "    .dataframe tbody tr th:only-of-type {\n",
              "        vertical-align: middle;\n",
              "    }\n",
              "\n",
              "    .dataframe tbody tr th {\n",
              "        vertical-align: top;\n",
              "    }\n",
              "\n",
              "    .dataframe thead th {\n",
              "        text-align: right;\n",
              "    }\n",
              "</style>\n",
              "<table border=\"1\" class=\"dataframe\">\n",
              "  <thead>\n",
              "    <tr style=\"text-align: right;\">\n",
              "      <th></th>\n",
              "      <th>_id</th>\n",
              "      <th>name</th>\n",
              "      <th>gender</th>\n",
              "      <th>academics</th>\n",
              "      <th>post_id</th>\n",
              "      <th>timestamp</th>\n",
              "    </tr>\n",
              "  </thead>\n",
              "  <tbody>\n",
              "    <tr>\n",
              "      <th>0</th>\n",
              "      <td>5d60098a653a331687083238</td>\n",
              "      <td>Nivesh Singh Chauhan</td>\n",
              "      <td>male</td>\n",
              "      <td>undergraduate</td>\n",
              "      <td>5ed3820f76027d35905ccac8</td>\n",
              "      <td>2020-05-31T18:01:54.308Z</td>\n",
              "    </tr>\n",
              "    <tr>\n",
              "      <th>1</th>\n",
              "      <td>5d60098a653a331687083238</td>\n",
              "      <td>Nivesh Singh Chauhan</td>\n",
              "      <td>male</td>\n",
              "      <td>undergraduate</td>\n",
              "      <td>5ed1ff0276027d35905cc60d</td>\n",
              "      <td>2020-05-31T08:21:29.911Z</td>\n",
              "    </tr>\n",
              "    <tr>\n",
              "      <th>2</th>\n",
              "      <td>5d60098a653a331687083238</td>\n",
              "      <td>Nivesh Singh Chauhan</td>\n",
              "      <td>male</td>\n",
              "      <td>undergraduate</td>\n",
              "      <td>5ecf96e876027d35905cbf46</td>\n",
              "      <td>2020-05-29T19:13:27.566Z</td>\n",
              "    </tr>\n",
              "    <tr>\n",
              "      <th>3</th>\n",
              "      <td>5d60098a653a331687083238</td>\n",
              "      <td>Nivesh Singh Chauhan</td>\n",
              "      <td>male</td>\n",
              "      <td>undergraduate</td>\n",
              "      <td>5ecfa0ca76027d35905cbf57</td>\n",
              "      <td>2020-05-29T19:10:50.010Z</td>\n",
              "    </tr>\n",
              "    <tr>\n",
              "      <th>4</th>\n",
              "      <td>5d60098a653a331687083238</td>\n",
              "      <td>Nivesh Singh Chauhan</td>\n",
              "      <td>male</td>\n",
              "      <td>undergraduate</td>\n",
              "      <td>5ed0e20776027d35905cc2fe</td>\n",
              "      <td>2020-05-29T19:10:23.887Z</td>\n",
              "    </tr>\n",
              "    <tr>\n",
              "      <th>...</th>\n",
              "      <td>...</td>\n",
              "      <td>...</td>\n",
              "      <td>...</td>\n",
              "      <td>...</td>\n",
              "      <td>...</td>\n",
              "      <td>...</td>\n",
              "    </tr>\n",
              "    <tr>\n",
              "      <th>1444</th>\n",
              "      <td>5ed3748576027d35905ccaab</td>\n",
              "      <td>Parth Vijay</td>\n",
              "      <td>male</td>\n",
              "      <td>undergraduate</td>\n",
              "      <td>5eb7b10ffd92f539c465ddda</td>\n",
              "      <td>2020-05-31T12:04:27.446Z</td>\n",
              "    </tr>\n",
              "    <tr>\n",
              "      <th>1445</th>\n",
              "      <td>5ed3748576027d35905ccaab</td>\n",
              "      <td>Parth Vijay</td>\n",
              "      <td>male</td>\n",
              "      <td>undergraduate</td>\n",
              "      <td>5ed3820f76027d35905ccac8</td>\n",
              "      <td>2020-05-31T10:08:37.079Z</td>\n",
              "    </tr>\n",
              "    <tr>\n",
              "      <th>1446</th>\n",
              "      <td>5ed3748576027d35905ccaab</td>\n",
              "      <td>Parth Vijay</td>\n",
              "      <td>male</td>\n",
              "      <td>undergraduate</td>\n",
              "      <td>5ed3791976027d35905ccab6</td>\n",
              "      <td>2020-05-31T10:03:30.483Z</td>\n",
              "    </tr>\n",
              "    <tr>\n",
              "      <th>1447</th>\n",
              "      <td>5ed3cbcbbd514d602c1530a7</td>\n",
              "      <td>Abhishek Mishra</td>\n",
              "      <td>male</td>\n",
              "      <td>undergraduate</td>\n",
              "      <td>5ed1ff0276027d35905cc60d</td>\n",
              "      <td>2020-05-31T16:16:51.523Z</td>\n",
              "    </tr>\n",
              "    <tr>\n",
              "      <th>1448</th>\n",
              "      <td>5ed3e898bd514d602c1530de</td>\n",
              "      <td>gauri raskar</td>\n",
              "      <td>female</td>\n",
              "      <td>graduate</td>\n",
              "      <td>5ecf818376027d35905cbf03</td>\n",
              "      <td>2020-05-31T18:56:56.215Z</td>\n",
              "    </tr>\n",
              "  </tbody>\n",
              "</table>\n",
              "<p>1449 rows × 6 columns</p>\n",
              "</div>"
            ],
            "text/plain": [
              "                           _id  ...                 timestamp\n",
              "0     5d60098a653a331687083238  ...  2020-05-31T18:01:54.308Z\n",
              "1     5d60098a653a331687083238  ...  2020-05-31T08:21:29.911Z\n",
              "2     5d60098a653a331687083238  ...  2020-05-29T19:13:27.566Z\n",
              "3     5d60098a653a331687083238  ...  2020-05-29T19:10:50.010Z\n",
              "4     5d60098a653a331687083238  ...  2020-05-29T19:10:23.887Z\n",
              "...                        ...  ...                       ...\n",
              "1444  5ed3748576027d35905ccaab  ...  2020-05-31T12:04:27.446Z\n",
              "1445  5ed3748576027d35905ccaab  ...  2020-05-31T10:08:37.079Z\n",
              "1446  5ed3748576027d35905ccaab  ...  2020-05-31T10:03:30.483Z\n",
              "1447  5ed3cbcbbd514d602c1530a7  ...  2020-05-31T16:16:51.523Z\n",
              "1448  5ed3e898bd514d602c1530de  ...  2020-05-31T18:56:56.215Z\n",
              "\n",
              "[1449 rows x 6 columns]"
            ]
          },
          "metadata": {
            "tags": []
          },
          "execution_count": 5
        }
      ]
    },
    {
      "cell_type": "code",
      "metadata": {
        "id": "PbhymAq8FgPL",
        "colab_type": "code",
        "outputId": "abafde6b-5c7c-4d21-9250-b3d1c1ab91b8",
        "colab": {
          "base_uri": "https://localhost:8080/",
          "height": 424
        }
      },
      "source": [
        "df3 = pd.read_csv('/content/drive/My Drive/Social_comment/Mldata/posts.csv')\n",
        "df3"
      ],
      "execution_count": 6,
      "outputs": [
        {
          "output_type": "execute_result",
          "data": {
            "text/html": [
              "<div>\n",
              "<style scoped>\n",
              "    .dataframe tbody tr th:only-of-type {\n",
              "        vertical-align: middle;\n",
              "    }\n",
              "\n",
              "    .dataframe tbody tr th {\n",
              "        vertical-align: top;\n",
              "    }\n",
              "\n",
              "    .dataframe thead th {\n",
              "        text-align: right;\n",
              "    }\n",
              "</style>\n",
              "<table border=\"1\" class=\"dataframe\">\n",
              "  <thead>\n",
              "    <tr style=\"text-align: right;\">\n",
              "      <th></th>\n",
              "      <th>_id</th>\n",
              "      <th>title</th>\n",
              "      <th>category</th>\n",
              "      <th>post_type</th>\n",
              "    </tr>\n",
              "  </thead>\n",
              "  <tbody>\n",
              "    <tr>\n",
              "      <th>0</th>\n",
              "      <td>5d62abaa65218653a132c956</td>\n",
              "      <td>hello there</td>\n",
              "      <td>Plant Biotechnology</td>\n",
              "      <td>blog</td>\n",
              "    </tr>\n",
              "    <tr>\n",
              "      <th>1</th>\n",
              "      <td>5d6d39567fa40e1417a4931c</td>\n",
              "      <td>Ml and AI</td>\n",
              "      <td>Artificial Intelligence|Machine Learning|Infor...</td>\n",
              "      <td>blog</td>\n",
              "    </tr>\n",
              "    <tr>\n",
              "      <th>2</th>\n",
              "      <td>5d7d23315720533e15c3b1ee</td>\n",
              "      <td>What is an Operating System ?</td>\n",
              "      <td>Operating Systems</td>\n",
              "      <td>blog</td>\n",
              "    </tr>\n",
              "    <tr>\n",
              "      <th>3</th>\n",
              "      <td>5d7d405e5720533e15c3b1f3</td>\n",
              "      <td>Lord Shiva</td>\n",
              "      <td>Drawings</td>\n",
              "      <td>artwork</td>\n",
              "    </tr>\n",
              "    <tr>\n",
              "      <th>4</th>\n",
              "      <td>5d80dfbc6c53455f896e600e</td>\n",
              "      <td>How Competition law evolved?</td>\n",
              "      <td>Competition Laws</td>\n",
              "      <td>blog</td>\n",
              "    </tr>\n",
              "    <tr>\n",
              "      <th>...</th>\n",
              "      <td>...</td>\n",
              "      <td>...</td>\n",
              "      <td>...</td>\n",
              "      <td>...</td>\n",
              "    </tr>\n",
              "    <tr>\n",
              "      <th>488</th>\n",
              "      <td>5ed3791976027d35905ccab6</td>\n",
              "      <td>CI/CD using GitHub Actions</td>\n",
              "      <td>Computer Technology|Information Technology</td>\n",
              "      <td>blog</td>\n",
              "    </tr>\n",
              "    <tr>\n",
              "      <th>489</th>\n",
              "      <td>5ed3820f76027d35905ccac8</td>\n",
              "      <td>Configure Docker with Django; PostgreSQL; Pg-a...</td>\n",
              "      <td>Computer Technology|Computer Application|Infor...</td>\n",
              "      <td>blog</td>\n",
              "    </tr>\n",
              "    <tr>\n",
              "      <th>490</th>\n",
              "      <td>5ed3ef4cbd514d602c1530f2</td>\n",
              "      <td>Recommendation Engine</td>\n",
              "      <td>NaN</td>\n",
              "      <td>project</td>\n",
              "    </tr>\n",
              "    <tr>\n",
              "      <th>491</th>\n",
              "      <td>5ed415c6bd514d602c15312d</td>\n",
              "      <td>Face Recognition using Transfer Learning.</td>\n",
              "      <td>Science; Technology</td>\n",
              "      <td>skill</td>\n",
              "    </tr>\n",
              "    <tr>\n",
              "      <th>492</th>\n",
              "      <td>5ed4cbadbd514d602c1531a6</td>\n",
              "      <td>Configure CI/CD Pipeline in GitLab and deploym...</td>\n",
              "      <td>Computer Technology|Computer Application|Infor...</td>\n",
              "      <td>blog</td>\n",
              "    </tr>\n",
              "  </tbody>\n",
              "</table>\n",
              "<p>493 rows × 4 columns</p>\n",
              "</div>"
            ],
            "text/plain": [
              "                          _id  ...  post_type\n",
              "0    5d62abaa65218653a132c956  ...       blog\n",
              "1    5d6d39567fa40e1417a4931c  ...       blog\n",
              "2    5d7d23315720533e15c3b1ee  ...       blog\n",
              "3    5d7d405e5720533e15c3b1f3  ...    artwork\n",
              "4    5d80dfbc6c53455f896e600e  ...       blog\n",
              "..                        ...  ...        ...\n",
              "488  5ed3791976027d35905ccab6  ...       blog\n",
              "489  5ed3820f76027d35905ccac8  ...       blog\n",
              "490  5ed3ef4cbd514d602c1530f2  ...    project\n",
              "491  5ed415c6bd514d602c15312d  ...      skill\n",
              "492  5ed4cbadbd514d602c1531a6  ...       blog\n",
              "\n",
              "[493 rows x 4 columns]"
            ]
          },
          "metadata": {
            "tags": []
          },
          "execution_count": 6
        }
      ]
    },
    {
      "cell_type": "code",
      "metadata": {
        "id": "txCLiH9mFtHs",
        "colab_type": "code",
        "outputId": "f5d6efcb-fce0-4fbe-bcec-b37f77279a30",
        "colab": {
          "base_uri": "https://localhost:8080/",
          "height": 424
        }
      },
      "source": [
        "df3.rename(columns = {'_id':'post_id'}, inplace = True) \n",
        "df3"
      ],
      "execution_count": 7,
      "outputs": [
        {
          "output_type": "execute_result",
          "data": {
            "text/html": [
              "<div>\n",
              "<style scoped>\n",
              "    .dataframe tbody tr th:only-of-type {\n",
              "        vertical-align: middle;\n",
              "    }\n",
              "\n",
              "    .dataframe tbody tr th {\n",
              "        vertical-align: top;\n",
              "    }\n",
              "\n",
              "    .dataframe thead th {\n",
              "        text-align: right;\n",
              "    }\n",
              "</style>\n",
              "<table border=\"1\" class=\"dataframe\">\n",
              "  <thead>\n",
              "    <tr style=\"text-align: right;\">\n",
              "      <th></th>\n",
              "      <th>post_id</th>\n",
              "      <th>title</th>\n",
              "      <th>category</th>\n",
              "      <th>post_type</th>\n",
              "    </tr>\n",
              "  </thead>\n",
              "  <tbody>\n",
              "    <tr>\n",
              "      <th>0</th>\n",
              "      <td>5d62abaa65218653a132c956</td>\n",
              "      <td>hello there</td>\n",
              "      <td>Plant Biotechnology</td>\n",
              "      <td>blog</td>\n",
              "    </tr>\n",
              "    <tr>\n",
              "      <th>1</th>\n",
              "      <td>5d6d39567fa40e1417a4931c</td>\n",
              "      <td>Ml and AI</td>\n",
              "      <td>Artificial Intelligence|Machine Learning|Infor...</td>\n",
              "      <td>blog</td>\n",
              "    </tr>\n",
              "    <tr>\n",
              "      <th>2</th>\n",
              "      <td>5d7d23315720533e15c3b1ee</td>\n",
              "      <td>What is an Operating System ?</td>\n",
              "      <td>Operating Systems</td>\n",
              "      <td>blog</td>\n",
              "    </tr>\n",
              "    <tr>\n",
              "      <th>3</th>\n",
              "      <td>5d7d405e5720533e15c3b1f3</td>\n",
              "      <td>Lord Shiva</td>\n",
              "      <td>Drawings</td>\n",
              "      <td>artwork</td>\n",
              "    </tr>\n",
              "    <tr>\n",
              "      <th>4</th>\n",
              "      <td>5d80dfbc6c53455f896e600e</td>\n",
              "      <td>How Competition law evolved?</td>\n",
              "      <td>Competition Laws</td>\n",
              "      <td>blog</td>\n",
              "    </tr>\n",
              "    <tr>\n",
              "      <th>...</th>\n",
              "      <td>...</td>\n",
              "      <td>...</td>\n",
              "      <td>...</td>\n",
              "      <td>...</td>\n",
              "    </tr>\n",
              "    <tr>\n",
              "      <th>488</th>\n",
              "      <td>5ed3791976027d35905ccab6</td>\n",
              "      <td>CI/CD using GitHub Actions</td>\n",
              "      <td>Computer Technology|Information Technology</td>\n",
              "      <td>blog</td>\n",
              "    </tr>\n",
              "    <tr>\n",
              "      <th>489</th>\n",
              "      <td>5ed3820f76027d35905ccac8</td>\n",
              "      <td>Configure Docker with Django; PostgreSQL; Pg-a...</td>\n",
              "      <td>Computer Technology|Computer Application|Infor...</td>\n",
              "      <td>blog</td>\n",
              "    </tr>\n",
              "    <tr>\n",
              "      <th>490</th>\n",
              "      <td>5ed3ef4cbd514d602c1530f2</td>\n",
              "      <td>Recommendation Engine</td>\n",
              "      <td>NaN</td>\n",
              "      <td>project</td>\n",
              "    </tr>\n",
              "    <tr>\n",
              "      <th>491</th>\n",
              "      <td>5ed415c6bd514d602c15312d</td>\n",
              "      <td>Face Recognition using Transfer Learning.</td>\n",
              "      <td>Science; Technology</td>\n",
              "      <td>skill</td>\n",
              "    </tr>\n",
              "    <tr>\n",
              "      <th>492</th>\n",
              "      <td>5ed4cbadbd514d602c1531a6</td>\n",
              "      <td>Configure CI/CD Pipeline in GitLab and deploym...</td>\n",
              "      <td>Computer Technology|Computer Application|Infor...</td>\n",
              "      <td>blog</td>\n",
              "    </tr>\n",
              "  </tbody>\n",
              "</table>\n",
              "<p>493 rows × 4 columns</p>\n",
              "</div>"
            ],
            "text/plain": [
              "                      post_id  ...  post_type\n",
              "0    5d62abaa65218653a132c956  ...       blog\n",
              "1    5d6d39567fa40e1417a4931c  ...       blog\n",
              "2    5d7d23315720533e15c3b1ee  ...       blog\n",
              "3    5d7d405e5720533e15c3b1f3  ...    artwork\n",
              "4    5d80dfbc6c53455f896e600e  ...       blog\n",
              "..                        ...  ...        ...\n",
              "488  5ed3791976027d35905ccab6  ...       blog\n",
              "489  5ed3820f76027d35905ccac8  ...       blog\n",
              "490  5ed3ef4cbd514d602c1530f2  ...    project\n",
              "491  5ed415c6bd514d602c15312d  ...      skill\n",
              "492  5ed4cbadbd514d602c1531a6  ...       blog\n",
              "\n",
              "[493 rows x 4 columns]"
            ]
          },
          "metadata": {
            "tags": []
          },
          "execution_count": 7
        }
      ]
    },
    {
      "cell_type": "code",
      "metadata": {
        "id": "XNd09PhmGKuu",
        "colab_type": "code",
        "outputId": "e6cd91ca-7fee-4fb1-b741-0b68b043cd3a",
        "colab": {
          "base_uri": "https://localhost:8080/",
          "height": 1000
        }
      },
      "source": [
        "final_df = df.merge(df3,on='post_id')\n",
        "final_df"
      ],
      "execution_count": 8,
      "outputs": [
        {
          "output_type": "execute_result",
          "data": {
            "text/html": [
              "<div>\n",
              "<style scoped>\n",
              "    .dataframe tbody tr th:only-of-type {\n",
              "        vertical-align: middle;\n",
              "    }\n",
              "\n",
              "    .dataframe tbody tr th {\n",
              "        vertical-align: top;\n",
              "    }\n",
              "\n",
              "    .dataframe thead th {\n",
              "        text-align: right;\n",
              "    }\n",
              "</style>\n",
              "<table border=\"1\" class=\"dataframe\">\n",
              "  <thead>\n",
              "    <tr style=\"text-align: right;\">\n",
              "      <th></th>\n",
              "      <th>_id</th>\n",
              "      <th>name</th>\n",
              "      <th>gender</th>\n",
              "      <th>academics</th>\n",
              "      <th>post_id</th>\n",
              "      <th>timestamp</th>\n",
              "      <th>title</th>\n",
              "      <th>category</th>\n",
              "      <th>post_type</th>\n",
              "    </tr>\n",
              "  </thead>\n",
              "  <tbody>\n",
              "    <tr>\n",
              "      <th>0</th>\n",
              "      <td>5d60098a653a331687083238</td>\n",
              "      <td>Nivesh Singh Chauhan</td>\n",
              "      <td>male</td>\n",
              "      <td>undergraduate</td>\n",
              "      <td>5ed3820f76027d35905ccac8</td>\n",
              "      <td>2020-05-31T18:01:54.308Z</td>\n",
              "      <td>Configure Docker with Django; PostgreSQL; Pg-a...</td>\n",
              "      <td>Computer Technology|Computer Application|Infor...</td>\n",
              "      <td>blog</td>\n",
              "    </tr>\n",
              "    <tr>\n",
              "      <th>1</th>\n",
              "      <td>5ecb979eeaff6b0c3a58a4f0</td>\n",
              "      <td>Kanika Sharma</td>\n",
              "      <td>female</td>\n",
              "      <td>undergraduate</td>\n",
              "      <td>5ed3820f76027d35905ccac8</td>\n",
              "      <td>2020-05-31T20:40:18.693Z</td>\n",
              "      <td>Configure Docker with Django; PostgreSQL; Pg-a...</td>\n",
              "      <td>Computer Technology|Computer Application|Infor...</td>\n",
              "      <td>blog</td>\n",
              "    </tr>\n",
              "    <tr>\n",
              "      <th>2</th>\n",
              "      <td>5ed0defa76027d35905cc2de</td>\n",
              "      <td>Asif Hossain</td>\n",
              "      <td>male</td>\n",
              "      <td>undergraduate</td>\n",
              "      <td>5ed3820f76027d35905ccac8</td>\n",
              "      <td>2020-06-01T08:08:54.124Z</td>\n",
              "      <td>Configure Docker with Django; PostgreSQL; Pg-a...</td>\n",
              "      <td>Computer Technology|Computer Application|Infor...</td>\n",
              "      <td>blog</td>\n",
              "    </tr>\n",
              "    <tr>\n",
              "      <th>3</th>\n",
              "      <td>5ed3748576027d35905ccaab</td>\n",
              "      <td>Parth Vijay</td>\n",
              "      <td>male</td>\n",
              "      <td>undergraduate</td>\n",
              "      <td>5ed3820f76027d35905ccac8</td>\n",
              "      <td>2020-05-31T10:08:37.079Z</td>\n",
              "      <td>Configure Docker with Django; PostgreSQL; Pg-a...</td>\n",
              "      <td>Computer Technology|Computer Application|Infor...</td>\n",
              "      <td>blog</td>\n",
              "    </tr>\n",
              "    <tr>\n",
              "      <th>4</th>\n",
              "      <td>5d60098a653a331687083238</td>\n",
              "      <td>Nivesh Singh Chauhan</td>\n",
              "      <td>male</td>\n",
              "      <td>undergraduate</td>\n",
              "      <td>5ed1ff0276027d35905cc60d</td>\n",
              "      <td>2020-05-31T08:21:29.911Z</td>\n",
              "      <td>AWS services and how to launch OS on AWS Cloud</td>\n",
              "      <td>Computer Technology|Cloud Computing</td>\n",
              "      <td>blog</td>\n",
              "    </tr>\n",
              "    <tr>\n",
              "      <th>...</th>\n",
              "      <td>...</td>\n",
              "      <td>...</td>\n",
              "      <td>...</td>\n",
              "      <td>...</td>\n",
              "      <td>...</td>\n",
              "      <td>...</td>\n",
              "      <td>...</td>\n",
              "      <td>...</td>\n",
              "      <td>...</td>\n",
              "    </tr>\n",
              "    <tr>\n",
              "      <th>1442</th>\n",
              "      <td>5ecb979eeaff6b0c3a58a4f0</td>\n",
              "      <td>Kanika Sharma</td>\n",
              "      <td>female</td>\n",
              "      <td>undergraduate</td>\n",
              "      <td>5de179d80eb5e25a8a07f079</td>\n",
              "      <td>2020-05-30T10:26:47.432Z</td>\n",
              "      <td>Navigation system using BFS DFS algorithms</td>\n",
              "      <td>NaN</td>\n",
              "      <td>project</td>\n",
              "    </tr>\n",
              "    <tr>\n",
              "      <th>1443</th>\n",
              "      <td>5ecb979eeaff6b0c3a58a4f0</td>\n",
              "      <td>Kanika Sharma</td>\n",
              "      <td>female</td>\n",
              "      <td>undergraduate</td>\n",
              "      <td>5ed175f476027d35905cc562</td>\n",
              "      <td>2020-05-29T20:53:54.008Z</td>\n",
              "      <td>GAN's Introduction</td>\n",
              "      <td>NaN</td>\n",
              "      <td>project</td>\n",
              "    </tr>\n",
              "    <tr>\n",
              "      <th>1444</th>\n",
              "      <td>5ecf6e6576027d35905cbeec</td>\n",
              "      <td>ashish</td>\n",
              "      <td>male</td>\n",
              "      <td>graduate</td>\n",
              "      <td>5ed0007a76027d35905cc0ea</td>\n",
              "      <td>2020-05-29T09:00:06.934Z</td>\n",
              "      <td>A solar-powered microbrewery has design-led en...</td>\n",
              "      <td>Artistic design</td>\n",
              "      <td>artwork</td>\n",
              "    </tr>\n",
              "    <tr>\n",
              "      <th>1445</th>\n",
              "      <td>5ed0defa76027d35905cc2de</td>\n",
              "      <td>Asif Hossain</td>\n",
              "      <td>male</td>\n",
              "      <td>undergraduate</td>\n",
              "      <td>5ed23d4276027d35905cc798</td>\n",
              "      <td>2020-06-01T08:07:22.659Z</td>\n",
              "      <td>Energy.</td>\n",
              "      <td>Calligraphy|Typography|Pen and ink</td>\n",
              "      <td>artwork</td>\n",
              "    </tr>\n",
              "    <tr>\n",
              "      <th>1446</th>\n",
              "      <td>5ed3748576027d35905ccaab</td>\n",
              "      <td>Parth Vijay</td>\n",
              "      <td>male</td>\n",
              "      <td>undergraduate</td>\n",
              "      <td>5ed4cbadbd514d602c1531a6</td>\n",
              "      <td>2020-06-01T09:39:20.021Z</td>\n",
              "      <td>Configure CI/CD Pipeline in GitLab and deploym...</td>\n",
              "      <td>Computer Technology|Computer Application|Infor...</td>\n",
              "      <td>blog</td>\n",
              "    </tr>\n",
              "  </tbody>\n",
              "</table>\n",
              "<p>1447 rows × 9 columns</p>\n",
              "</div>"
            ],
            "text/plain": [
              "                           _id  ...  post_type\n",
              "0     5d60098a653a331687083238  ...       blog\n",
              "1     5ecb979eeaff6b0c3a58a4f0  ...       blog\n",
              "2     5ed0defa76027d35905cc2de  ...       blog\n",
              "3     5ed3748576027d35905ccaab  ...       blog\n",
              "4     5d60098a653a331687083238  ...       blog\n",
              "...                        ...  ...        ...\n",
              "1442  5ecb979eeaff6b0c3a58a4f0  ...    project\n",
              "1443  5ecb979eeaff6b0c3a58a4f0  ...    project\n",
              "1444  5ecf6e6576027d35905cbeec  ...    artwork\n",
              "1445  5ed0defa76027d35905cc2de  ...    artwork\n",
              "1446  5ed3748576027d35905ccaab  ...       blog\n",
              "\n",
              "[1447 rows x 9 columns]"
            ]
          },
          "metadata": {
            "tags": []
          },
          "execution_count": 8
        }
      ]
    },
    {
      "cell_type": "code",
      "metadata": {
        "id": "uaGQFPPpGYiE",
        "colab_type": "code",
        "outputId": "92d960d8-7b99-4666-e158-5bef763f6431",
        "colab": {
          "base_uri": "https://localhost:8080/",
          "height": 280
        }
      },
      "source": [
        "#Recommendations  based on title column only\n",
        "#data cleaning steps\n",
        "from html.parser import HTMLParser\n",
        "html_parser = HTMLParser()\n",
        "final_df['title'] = final_df['title'].apply(lambda x: html_parser.unescape(x))\n",
        "import re\n",
        "final_df['title']= final_df['title'].apply(lambda x: x.lower())\n",
        "\n",
        "#Extracting only words from Service\n",
        "final_df['title'] = final_df['title'].apply(lambda x: re.sub(r'#[\\W]*',' ',x))\n",
        "\n",
        "final_df[\"title\"] = final_df['title'].apply(lambda x: re.sub(r'[^a-zA-Z0-9]',' ',x))\n",
        "final_df['title']    "
      ],
      "execution_count": 9,
      "outputs": [
        {
          "output_type": "stream",
          "text": [
            "/usr/local/lib/python3.6/dist-packages/ipykernel_launcher.py:5: DeprecationWarning: The unescape method is deprecated and will be removed in 3.5, use html.unescape() instead.\n",
            "  \"\"\"\n"
          ],
          "name": "stderr"
        },
        {
          "output_type": "execute_result",
          "data": {
            "text/plain": [
              "0       configure docker with django  postgresql  pg a...\n",
              "1       configure docker with django  postgresql  pg a...\n",
              "2       configure docker with django  postgresql  pg a...\n",
              "3       configure docker with django  postgresql  pg a...\n",
              "4          aws services and how to launch os on aws cloud\n",
              "                              ...                        \n",
              "1442           navigation system using bfs dfs algorithms\n",
              "1443                                   gan s introduction\n",
              "1444    a solar powered microbrewery has design led en...\n",
              "1445                                              energy \n",
              "1446    configure ci cd pipeline in gitlab and deploym...\n",
              "Name: title, Length: 1447, dtype: object"
            ]
          },
          "metadata": {
            "tags": []
          },
          "execution_count": 9
        }
      ]
    },
    {
      "cell_type": "code",
      "metadata": {
        "id": "t4qgDSg-Iz6r",
        "colab_type": "code",
        "outputId": "c4df857a-d612-4ea2-8aed-e03a7af35f3d",
        "colab": {
          "base_uri": "https://localhost:8080/",
          "height": 225
        }
      },
      "source": [
        "#More data clearning\n",
        "Appostophes = {\"'s\":\"is\",\"'re\":\"are\",\"s\":\" \"}\n",
        "final_df['title']\n",
        "for i in range(len(final_df)):\n",
        "  words =  final_df['title'][i]\n",
        "  for word in words:\n",
        "    if word == \"'s\":\n",
        "      word= \"is\"\n",
        "    elif word == \"'re\":\n",
        "      word =  \"are\"\n",
        "  final_df['title'][i] = words\n",
        "\n",
        "final_df['title']"
      ],
      "execution_count": 10,
      "outputs": [
        {
          "output_type": "execute_result",
          "data": {
            "text/plain": [
              "0       configure docker with django  postgresql  pg a...\n",
              "1       configure docker with django  postgresql  pg a...\n",
              "2       configure docker with django  postgresql  pg a...\n",
              "3       configure docker with django  postgresql  pg a...\n",
              "4          aws services and how to launch os on aws cloud\n",
              "                              ...                        \n",
              "1442           navigation system using bfs dfs algorithms\n",
              "1443                                   gan s introduction\n",
              "1444    a solar powered microbrewery has design led en...\n",
              "1445                                              energy \n",
              "1446    configure ci cd pipeline in gitlab and deploym...\n",
              "Name: title, Length: 1447, dtype: object"
            ]
          },
          "metadata": {
            "tags": []
          },
          "execution_count": 10
        }
      ]
    },
    {
      "cell_type": "code",
      "metadata": {
        "id": "79BDGU3AL4cY",
        "colab_type": "code",
        "outputId": "97ede14c-2b72-4f47-f084-2704b1d7cd01",
        "colab": {
          "base_uri": "https://localhost:8080/",
          "height": 34
        }
      },
      "source": [
        "final_df.shape"
      ],
      "execution_count": 11,
      "outputs": [
        {
          "output_type": "execute_result",
          "data": {
            "text/plain": [
              "(1447, 9)"
            ]
          },
          "metadata": {
            "tags": []
          },
          "execution_count": 11
        }
      ]
    },
    {
      "cell_type": "code",
      "metadata": {
        "id": "sUCWtH1EJyJ2",
        "colab_type": "code",
        "colab": {}
      },
      "source": [
        "#Applying tfidf vectorizer on the data\n",
        "\n",
        "from sklearn.feature_extraction.text import TfidfVectorizer\n",
        "from sklearn.metrics.pairwise import linear_kernel \n",
        "\n",
        "X = final_df['title']\n",
        "tf = TfidfVectorizer(analyzer='word', ngram_range=(1, 3),max_features=None,strip_accents='unicode', stop_words='english')\n",
        "tf_matrix = tf.fit_transform(final_df['title'])\n",
        "# df_temp = pd.DataFrame(tf.transform(X).todense(),columns=tf.get_feature_names())\n"
      ],
      "execution_count": 0,
      "outputs": []
    },
    {
      "cell_type": "code",
      "metadata": {
        "id": "lv0M3bz5MTTq",
        "colab_type": "code",
        "colab": {}
      },
      "source": [
        "#Finding the cosine similarities\n",
        "cosine_similarities = linear_kernel(tf_matrix, tf_matrix) \n",
        "results = {}\n",
        "idx = 0\n",
        "row = 0\n",
        "count = 0\n",
        "for idx, row in final_df.iterrows():\n",
        "   similar_indices = cosine_similarities[idx-1].argsort()[:-100:-1] \n",
        "   similar_items = [(cosine_similarities[idx-1][i], final_df['_id'][i]) for i in similar_indices] \n",
        "   results[row['_id']] = similar_items[1:]"
      ],
      "execution_count": 0,
      "outputs": []
    },
    {
      "cell_type": "code",
      "metadata": {
        "id": "GTF4vc2qQ73G",
        "colab_type": "code",
        "colab": {}
      },
      "source": [
        "\n",
        "def item(_id):  \n",
        "  return final_df.loc[final_df['_id'] == _id]['title'].tolist()[0].split(' - ')[0] \n",
        "\n",
        "def recommend(item_id, num):\n",
        "    print(\"Recommending \" + str(num) + \" products similar to \" + item(item_id) + \"...\")   \n",
        "    print(\"-------\")    \n",
        "    recs = results[item_id][:num]   \n",
        "    for rec in recs: \n",
        "       print(\"Recommended: \" + item(rec[1]) + \" (score:\" +      str(rec[0]) + \")\")"
      ],
      "execution_count": 0,
      "outputs": []
    },
    {
      "cell_type": "code",
      "metadata": {
        "id": "vYTCuXDIRbMQ",
        "colab_type": "code",
        "outputId": "937fa064-edd3-4479-9dc6-7084f03a7e2c",
        "colab": {
          "base_uri": "https://localhost:8080/",
          "height": 225
        }
      },
      "source": [
        "#Recommendation results\n",
        "recommend(item_id='5d60098a653a331687083238', num=10)\n"
      ],
      "execution_count": 15,
      "outputs": [
        {
          "output_type": "stream",
          "text": [
            "Recommending 10 products similar to configure docker with django  postgresql  pg admin   elasticsearch...\n",
            "-------\n",
            "Recommended: aws services and how to launch os on aws cloud (score:0.2952802598606897)\n",
            "Recommended: understanding cloud computing aws  (score:0.2952802598606897)\n",
            "Recommended: machine learning   operations   mlops  (score:0.2952802598606897)\n",
            "Recommended: machine learning   operations   mlops  (score:0.2952802598606897)\n",
            "Recommended: photography composition (score:0.2952802598606897)\n",
            "Recommended: you  are enough  (score:0.2952802598606897)\n",
            "Recommended: configure docker with django  postgresql  pg admin   elasticsearch (score:0.0)\n",
            "Recommended: fashion illustration (score:0.0)\n",
            "Recommended: launching an ec2 instance  (score:0.0)\n",
            "Recommended: configure docker with django  postgresql  pg admin   elasticsearch (score:0.0)\n"
          ],
          "name": "stdout"
        }
      ]
    },
    {
      "cell_type": "code",
      "metadata": {
        "id": "xkJnZoK_SCgV",
        "colab_type": "code",
        "outputId": "dc4aa24a-5ba3-4a43-e203-e93eac4c09ec",
        "colab": {
          "base_uri": "https://localhost:8080/",
          "height": 225
        }
      },
      "source": [
        "recommend(item_id='5ecb979eeaff6b0c3a58a4f0', num=10)"
      ],
      "execution_count": 16,
      "outputs": [
        {
          "output_type": "stream",
          "text": [
            "Recommending 10 products similar to configure docker with django  postgresql  pg admin   elasticsearch...\n",
            "-------\n",
            "Recommended: configure docker with django  postgresql  pg admin   elasticsearch (score:0.0642995296829686)\n",
            "Recommended: configure docker with django  postgresql  pg admin   elasticsearch (score:0.0642995296829686)\n",
            "Recommended: configure docker with django  postgresql  pg admin   elasticsearch (score:0.06336892205049756)\n",
            "Recommended: configure docker with django  postgresql  pg admin   elasticsearch (score:0.06336892205049756)\n",
            "Recommended: human illustration  with galaxy background  (score:0.05409397080913225)\n",
            "Recommended: configure docker with django  postgresql  pg admin   elasticsearch (score:0.0)\n",
            "Recommended: configure docker with django  postgresql  pg admin   elasticsearch (score:0.0)\n",
            "Recommended: configure docker with django  postgresql  pg admin   elasticsearch (score:0.0)\n",
            "Recommended: fashion illustration (score:0.0)\n",
            "Recommended: configure docker with django  postgresql  pg admin   elasticsearch (score:0.0)\n"
          ],
          "name": "stdout"
        }
      ]
    },
    {
      "cell_type": "code",
      "metadata": {
        "id": "WAuTlcpIZAgT",
        "colab_type": "code",
        "outputId": "c5178712-21f0-46df-bd7f-aec7506fc026",
        "colab": {
          "base_uri": "https://localhost:8080/",
          "height": 191
        }
      },
      "source": [
        "final_df.isnull().sum().any"
      ],
      "execution_count": 17,
      "outputs": [
        {
          "output_type": "execute_result",
          "data": {
            "text/plain": [
              "<bound method Series.any of _id            0\n",
              "name           0\n",
              "gender         0\n",
              "academics      0\n",
              "post_id        0\n",
              "timestamp      0\n",
              "title          0\n",
              "category      88\n",
              " post_type     0\n",
              "dtype: int64>"
            ]
          },
          "metadata": {
            "tags": []
          },
          "execution_count": 17
        }
      ]
    },
    {
      "cell_type": "code",
      "metadata": {
        "id": "3hL9VjP7bhkj",
        "colab_type": "code",
        "colab": {}
      },
      "source": [
        "final_df = final_df.dropna(how='any')   "
      ],
      "execution_count": 0,
      "outputs": []
    },
    {
      "cell_type": "code",
      "metadata": {
        "id": "uDlSnvudcrii",
        "colab_type": "code",
        "outputId": "0a294e02-a51d-47b2-eb55-1dc4a2bafc39",
        "colab": {
          "base_uri": "https://localhost:8080/",
          "height": 191
        }
      },
      "source": [
        "#Recommendations based on category column only\n",
        "final_df['category'].dtypes\n",
        "final_df.isnull().sum().any"
      ],
      "execution_count": 19,
      "outputs": [
        {
          "output_type": "execute_result",
          "data": {
            "text/plain": [
              "<bound method Series.any of _id           0\n",
              "name          0\n",
              "gender        0\n",
              "academics     0\n",
              "post_id       0\n",
              "timestamp     0\n",
              "title         0\n",
              "category      0\n",
              " post_type    0\n",
              "dtype: int64>"
            ]
          },
          "metadata": {
            "tags": []
          },
          "execution_count": 19
        }
      ]
    },
    {
      "cell_type": "code",
      "metadata": {
        "id": "xd2-F1lCdjMO",
        "colab_type": "code",
        "outputId": "e514ac4c-7c67-429d-beef-572b22d4ceb1",
        "colab": {
          "base_uri": "https://localhost:8080/",
          "height": 34
        }
      },
      "source": [
        "final_df.shape"
      ],
      "execution_count": 20,
      "outputs": [
        {
          "output_type": "execute_result",
          "data": {
            "text/plain": [
              "(1359, 9)"
            ]
          },
          "metadata": {
            "tags": []
          },
          "execution_count": 20
        }
      ]
    },
    {
      "cell_type": "code",
      "metadata": {
        "id": "9Rkl2sL7btex",
        "colab_type": "code",
        "outputId": "a4b0903d-8dac-4231-9f6c-28c8c2360881",
        "colab": {
          "base_uri": "https://localhost:8080/",
          "height": 121
        }
      },
      "source": [
        "final_df['category'] = final_df['category'].replace(\"|\",' ')\n"
      ],
      "execution_count": 21,
      "outputs": [
        {
          "output_type": "stream",
          "text": [
            "/usr/local/lib/python3.6/dist-packages/ipykernel_launcher.py:1: SettingWithCopyWarning: \n",
            "A value is trying to be set on a copy of a slice from a DataFrame.\n",
            "Try using .loc[row_indexer,col_indexer] = value instead\n",
            "\n",
            "See the caveats in the documentation: https://pandas.pydata.org/pandas-docs/stable/user_guide/indexing.html#returning-a-view-versus-a-copy\n",
            "  \"\"\"Entry point for launching an IPython kernel.\n"
          ],
          "name": "stderr"
        }
      ]
    },
    {
      "cell_type": "code",
      "metadata": {
        "id": "BaRjsg4MfZzn",
        "colab_type": "code",
        "outputId": "00849bc7-b037-4d5b-a3ba-b6600cd6e9f8",
        "colab": {
          "base_uri": "https://localhost:8080/",
          "height": 225
        }
      },
      "source": [
        "final_df['category']"
      ],
      "execution_count": 22,
      "outputs": [
        {
          "output_type": "execute_result",
          "data": {
            "text/plain": [
              "0       Computer Technology|Computer Application|Infor...\n",
              "1       Computer Technology|Computer Application|Infor...\n",
              "2       Computer Technology|Computer Application|Infor...\n",
              "3       Computer Technology|Computer Application|Infor...\n",
              "4                     Computer Technology|Cloud Computing\n",
              "                              ...                        \n",
              "1440                         Mass Media|Media And Society\n",
              "1441                  Visual Arts|Calligraphy|Pen and ink\n",
              "1444                                      Artistic design\n",
              "1445                   Calligraphy|Typography|Pen and ink\n",
              "1446    Computer Technology|Computer Application|Infor...\n",
              "Name: category, Length: 1359, dtype: object"
            ]
          },
          "metadata": {
            "tags": []
          },
          "execution_count": 22
        }
      ]
    },
    {
      "cell_type": "code",
      "metadata": {
        "id": "bJ9t58FnXzmU",
        "colab_type": "code",
        "outputId": "ad18ced2-3072-4b69-f89b-aaf0c5cfe084",
        "colab": {
          "base_uri": "https://localhost:8080/",
          "height": 697
        }
      },
      "source": [
        "#Recommendations based on category column\n",
        "#Data cleaning steps\n",
        "from html.parser import HTMLParser\n",
        "html_parser = HTMLParser()\n",
        "final_df['category'] = final_df['category'].apply(lambda x: html_parser.unescape(x))\n",
        "import re\n",
        "final_df['category']= final_df['category'].apply(lambda x: x.lower())\n",
        "\n",
        "#Extracting only words from Service\n",
        "final_df['category'] = final_df['category'].apply(lambda x: re.sub(r'#[\\W]*',' ',x))\n",
        "\n",
        "final_df['category'] = final_df['category'].apply(lambda x: re.sub(r'[^a-zA-Z0-9]',' ',x))\n",
        "final_df['category']    "
      ],
      "execution_count": 23,
      "outputs": [
        {
          "output_type": "stream",
          "text": [
            "/usr/local/lib/python3.6/dist-packages/ipykernel_launcher.py:5: DeprecationWarning: The unescape method is deprecated and will be removed in 3.5, use html.unescape() instead.\n",
            "  \"\"\"\n",
            "/usr/local/lib/python3.6/dist-packages/ipykernel_launcher.py:5: SettingWithCopyWarning: \n",
            "A value is trying to be set on a copy of a slice from a DataFrame.\n",
            "Try using .loc[row_indexer,col_indexer] = value instead\n",
            "\n",
            "See the caveats in the documentation: https://pandas.pydata.org/pandas-docs/stable/user_guide/indexing.html#returning-a-view-versus-a-copy\n",
            "  \"\"\"\n",
            "/usr/local/lib/python3.6/dist-packages/ipykernel_launcher.py:7: SettingWithCopyWarning: \n",
            "A value is trying to be set on a copy of a slice from a DataFrame.\n",
            "Try using .loc[row_indexer,col_indexer] = value instead\n",
            "\n",
            "See the caveats in the documentation: https://pandas.pydata.org/pandas-docs/stable/user_guide/indexing.html#returning-a-view-versus-a-copy\n",
            "  import sys\n",
            "/usr/local/lib/python3.6/dist-packages/ipykernel_launcher.py:10: SettingWithCopyWarning: \n",
            "A value is trying to be set on a copy of a slice from a DataFrame.\n",
            "Try using .loc[row_indexer,col_indexer] = value instead\n",
            "\n",
            "See the caveats in the documentation: https://pandas.pydata.org/pandas-docs/stable/user_guide/indexing.html#returning-a-view-versus-a-copy\n",
            "  # Remove the CWD from sys.path while we load stuff.\n",
            "/usr/local/lib/python3.6/dist-packages/ipykernel_launcher.py:12: SettingWithCopyWarning: \n",
            "A value is trying to be set on a copy of a slice from a DataFrame.\n",
            "Try using .loc[row_indexer,col_indexer] = value instead\n",
            "\n",
            "See the caveats in the documentation: https://pandas.pydata.org/pandas-docs/stable/user_guide/indexing.html#returning-a-view-versus-a-copy\n",
            "  if sys.path[0] == '':\n"
          ],
          "name": "stderr"
        },
        {
          "output_type": "execute_result",
          "data": {
            "text/plain": [
              "0       computer technology computer application infor...\n",
              "1       computer technology computer application infor...\n",
              "2       computer technology computer application infor...\n",
              "3       computer technology computer application infor...\n",
              "4                     computer technology cloud computing\n",
              "                              ...                        \n",
              "1440                         mass media media and society\n",
              "1441                  visual arts calligraphy pen and ink\n",
              "1444                                      artistic design\n",
              "1445                   calligraphy typography pen and ink\n",
              "1446    computer technology computer application infor...\n",
              "Name: category, Length: 1359, dtype: object"
            ]
          },
          "metadata": {
            "tags": []
          },
          "execution_count": 23
        }
      ]
    },
    {
      "cell_type": "code",
      "metadata": {
        "id": "4nPA628Ifn3z",
        "colab_type": "code",
        "outputId": "2e5e1019-edfb-4fab-f7d8-047e021f338b",
        "colab": {
          "base_uri": "https://localhost:8080/",
          "height": 330
        }
      },
      "source": [
        "Appostophes = {\"'s\":\"is\",\"'re\":\"are\",\"s\":\" \"}\n",
        "final_df['category'] = final_df['category'].replace(\"s\",' ')\n",
        "final_df['category'] = final_df['category'].replace(\"'s\",'is')\n",
        "final_df['category'] = final_df['category'].replace(\"'re\",'are')"
      ],
      "execution_count": 24,
      "outputs": [
        {
          "output_type": "stream",
          "text": [
            "/usr/local/lib/python3.6/dist-packages/ipykernel_launcher.py:2: SettingWithCopyWarning: \n",
            "A value is trying to be set on a copy of a slice from a DataFrame.\n",
            "Try using .loc[row_indexer,col_indexer] = value instead\n",
            "\n",
            "See the caveats in the documentation: https://pandas.pydata.org/pandas-docs/stable/user_guide/indexing.html#returning-a-view-versus-a-copy\n",
            "  \n",
            "/usr/local/lib/python3.6/dist-packages/ipykernel_launcher.py:3: SettingWithCopyWarning: \n",
            "A value is trying to be set on a copy of a slice from a DataFrame.\n",
            "Try using .loc[row_indexer,col_indexer] = value instead\n",
            "\n",
            "See the caveats in the documentation: https://pandas.pydata.org/pandas-docs/stable/user_guide/indexing.html#returning-a-view-versus-a-copy\n",
            "  This is separate from the ipykernel package so we can avoid doing imports until\n",
            "/usr/local/lib/python3.6/dist-packages/ipykernel_launcher.py:4: SettingWithCopyWarning: \n",
            "A value is trying to be set on a copy of a slice from a DataFrame.\n",
            "Try using .loc[row_indexer,col_indexer] = value instead\n",
            "\n",
            "See the caveats in the documentation: https://pandas.pydata.org/pandas-docs/stable/user_guide/indexing.html#returning-a-view-versus-a-copy\n",
            "  after removing the cwd from sys.path.\n"
          ],
          "name": "stderr"
        }
      ]
    },
    {
      "cell_type": "code",
      "metadata": {
        "id": "iPooT6BdgF6L",
        "colab_type": "code",
        "colab": {}
      },
      "source": [
        "final_df['category']\n",
        "final_df = final_df.reset_index(drop=True)"
      ],
      "execution_count": 0,
      "outputs": []
    },
    {
      "cell_type": "code",
      "metadata": {
        "id": "ojMvGYJhgQCx",
        "colab_type": "code",
        "colab": {}
      },
      "source": [
        "#Applying tdidf on category column only\n",
        "from sklearn.feature_extraction.text import TfidfVectorizer\n",
        "from sklearn.metrics.pairwise import linear_kernel \n",
        "tf = TfidfVectorizer(analyzer='word', ngram_range=(1, 3),max_features=None,strip_accents='unicode', stop_words='english')\n",
        "tf_matrix = tf.fit_transform(final_df['category'])\n",
        "# df_temp = pd.DataFrame(tf.transform(X).todense(),columns=tf.get_feature_names())"
      ],
      "execution_count": 0,
      "outputs": []
    },
    {
      "cell_type": "code",
      "metadata": {
        "id": "lBO6IOWkgZyf",
        "colab_type": "code",
        "colab": {}
      },
      "source": [
        "#Finding cosine similarities\n",
        "cosine_similarities = linear_kernel(tf_matrix, tf_matrix) \n",
        "results = {}\n",
        "idx = 0\n",
        "row = 0\n",
        "count = 0\n",
        "for idx, row in final_df.iterrows():\n",
        "   similar_indices = cosine_similarities[idx].argsort()[:-100:-1] \n",
        "   similar_items = [(cosine_similarities[idx][i], final_df['_id'][i]) for i in similar_indices] \n",
        "   results[row['_id']] = similar_items[1:]"
      ],
      "execution_count": 0,
      "outputs": []
    },
    {
      "cell_type": "code",
      "metadata": {
        "id": "QZbqdGKXhOZc",
        "colab_type": "code",
        "colab": {}
      },
      "source": [
        "\n",
        "def item(_id):  \n",
        "  return final_df.loc[final_df['_id'] == _id]['title'].tolist()[0].split(' - ')[0] \n",
        "\n",
        "def recommend(item_id, num):\n",
        "    print(\"Recommending \" + str(num) + \" products similar to \" + item(item_id) + \"...\")   \n",
        "    print(\"-------\")    \n",
        "    recs = results[item_id][:num]   \n",
        "    for rec in recs: \n",
        "       print(\"Recommended: \" + item(rec[1]) + \" (score:\" +      str(rec[0]) + \")\")"
      ],
      "execution_count": 0,
      "outputs": []
    },
    {
      "cell_type": "code",
      "metadata": {
        "id": "65OxoCyzhTHg",
        "colab_type": "code",
        "outputId": "892e3998-f8b6-48ce-f2c0-493c223ef1a5",
        "colab": {
          "base_uri": "https://localhost:8080/",
          "height": 225
        }
      },
      "source": [
        "#Recommendations result\n",
        "recommend(item_id='5d60098a653a331687083238', num=10)"
      ],
      "execution_count": 29,
      "outputs": [
        {
          "output_type": "stream",
          "text": [
            "Recommending 10 products similar to configure docker with django  postgresql  pg admin   elasticsearch...\n",
            "-------\n",
            "Recommended: configure docker with django  postgresql  pg admin   elasticsearch (score:1.0)\n",
            "Recommended: launching an ec2 instance  (score:0.5404983004060651)\n",
            "Recommended: gun store logo  (score:0.35222127470047776)\n",
            "Recommended: configure docker with django  postgresql  pg admin   elasticsearch (score:0.3188013105007494)\n",
            "Recommended: aws services and how to launch os on aws cloud (score:0.3188013105007494)\n",
            "Recommended: fashion illustration (score:0.27751799511158964)\n",
            "Recommended: fashion illustration (score:0.27751799511158964)\n",
            "Recommended: machine learning   operations   mlops  (score:0.27751799511158964)\n",
            "Recommended: fashion illustration (score:0.27751799511158964)\n",
            "Recommended: fashion illustration (score:0.27751799511158964)\n"
          ],
          "name": "stdout"
        }
      ]
    },
    {
      "cell_type": "code",
      "metadata": {
        "id": "UfvkpKUOghVx",
        "colab_type": "code",
        "colab": {}
      },
      "source": [
        "#Now applying nlp on two columns category and title\n",
        "#Since matrix of nlp on title is different from nlp on category column\n",
        "\n",
        "#matrix based on title column\n",
        "from sklearn.feature_extraction.text import TfidfVectorizer\n",
        "from sklearn.metrics.pairwise import linear_kernel \n",
        "tf = TfidfVectorizer(analyzer='word', ngram_range=(1, 3),max_features=None,strip_accents='unicode', stop_words='english')\n",
        "tf_title_matrix = tf.fit_transform(final_df['title'])\n",
        "# df_temp = pd.DataFrame(tf.transform(X).todense(),columns=tf.get_feature_names())"
      ],
      "execution_count": 0,
      "outputs": []
    },
    {
      "cell_type": "code",
      "metadata": {
        "id": "cTq_pd9Eie3P",
        "colab_type": "code",
        "outputId": "4e462eaf-9b40-4021-852f-75469fe600c4",
        "colab": {
          "base_uri": "https://localhost:8080/",
          "height": 86
        }
      },
      "source": [
        "\n",
        "tf_matrix \n",
        "\n",
        "tf1 = np.array(tf_matrix)\n",
        "tf_title_matrix\n",
        "\n",
        "tf1\n",
        "tf2 = np.array(tf_title_matrix)\n",
        "tf2\n",
        "\n",
        "tf_final = np.vstack((tf1,tf2))\n",
        "tf_final\n",
        "\n",
        "tf3 = tf_final.flatten()\n",
        "tf3\n"
      ],
      "execution_count": 31,
      "outputs": [
        {
          "output_type": "execute_result",
          "data": {
            "text/plain": [
              "array([<1359x1099 sparse matrix of type '<class 'numpy.float64'>'\n",
              "\twith 8544 stored elements in Compressed Sparse Row format>,\n",
              "       <1359x1842 sparse matrix of type '<class 'numpy.float64'>'\n",
              "\twith 6844 stored elements in Compressed Sparse Row format>], dtype=object)"
            ]
          },
          "metadata": {
            "tags": []
          },
          "execution_count": 31
        }
      ]
    },
    {
      "cell_type": "code",
      "metadata": {
        "id": "3chM6bb7l94u",
        "colab_type": "code",
        "colab": {}
      },
      "source": [
        "from scipy.sparse import hstack\n",
        "merged_mat = hstack((tf_matrix, tf_title_matrix))"
      ],
      "execution_count": 0,
      "outputs": []
    },
    {
      "cell_type": "code",
      "metadata": {
        "id": "8YNTGqkVmHsw",
        "colab_type": "code",
        "outputId": "e8c736e2-0834-44bd-8001-d87b363a03f0",
        "colab": {
          "base_uri": "https://localhost:8080/",
          "height": 52
        }
      },
      "source": [
        "#Merged sparsed matrix\n",
        "merged_mat"
      ],
      "execution_count": 33,
      "outputs": [
        {
          "output_type": "execute_result",
          "data": {
            "text/plain": [
              "<1359x2941 sparse matrix of type '<class 'numpy.float64'>'\n",
              "\twith 15388 stored elements in COOrdinate format>"
            ]
          },
          "metadata": {
            "tags": []
          },
          "execution_count": 33
        }
      ]
    },
    {
      "cell_type": "code",
      "metadata": {
        "id": "U1AtBQAKkuhB",
        "colab_type": "code",
        "colab": {}
      },
      "source": [
        "cosine_similarities = linear_kernel(merged_mat, merged_mat) \n",
        "results = {}\n",
        "idx = 0\n",
        "row = 0\n",
        "count = 0\n",
        "for idx, row in final_df.iterrows():\n",
        "   similar_indices = cosine_similarities[idx].argsort()[:-100:-1] \n",
        "   similar_items = [(cosine_similarities[idx][i], final_df['_id'][i]) for i in similar_indices] \n",
        "   results[row['_id']] = similar_items[1:]"
      ],
      "execution_count": 0,
      "outputs": []
    },
    {
      "cell_type": "code",
      "metadata": {
        "id": "bSVKXo6FmTAi",
        "colab_type": "code",
        "colab": {}
      },
      "source": [
        "def item(_id):  \n",
        "  return final_df.loc[final_df['_id'] == _id]['title'].tolist()[0].split(' - ')[0] \n",
        "\n",
        "def recommend(item_id, num):\n",
        "    print(\"Recommending \" + str(num) + \" products similar to \" + item(item_id) + \"...\")   \n",
        "    print(\"-------\")    \n",
        "    recs = results[item_id][:num]   \n",
        "    for rec in recs: \n",
        "       print(\"Recommended: \" + item(rec[1]) + \" (score:\" +      str(rec[0]) + \")\")"
      ],
      "execution_count": 0,
      "outputs": []
    },
    {
      "cell_type": "code",
      "metadata": {
        "id": "gbPlMBpP5Ekw",
        "colab_type": "code",
        "outputId": "ed4f22f1-f78d-4b7a-cdf2-f79402844d37",
        "colab": {
          "base_uri": "https://localhost:8080/",
          "height": 225
        }
      },
      "source": [
        "#@title Default title text\n",
        "#Recommendation results based  on both the columns\n",
        "recommend(item_id='5d60098a653a331687083238', num=10)"
      ],
      "execution_count": 36,
      "outputs": [
        {
          "output_type": "stream",
          "text": [
            "Recommending 10 products similar to configure docker with django  postgresql  pg admin   elasticsearch...\n",
            "-------\n",
            "Recommended: configure docker with django  postgresql  pg admin   elasticsearch (score:2.0)\n",
            "Recommended: launching an ec2 instance  (score:0.5404983004060651)\n",
            "Recommended: gun store logo  (score:0.35222127470047776)\n",
            "Recommended: configure docker with django  postgresql  pg admin   elasticsearch (score:0.3188013105007494)\n",
            "Recommended: aws services and how to launch os on aws cloud (score:0.3188013105007494)\n",
            "Recommended: fashion illustration (score:0.2775179951115897)\n",
            "Recommended: aws services and how to launch os on aws cloud (score:0.2775179951115897)\n",
            "Recommended: fashion illustration (score:0.2775179951115897)\n",
            "Recommended: human illustration  with galaxy background  (score:0.2775179951115897)\n",
            "Recommended: kabir singh (score:0.2775179951115897)\n"
          ],
          "name": "stdout"
        }
      ]
    },
    {
      "cell_type": "code",
      "metadata": {
        "id": "DS4hgAgX625N",
        "colab_type": "code",
        "outputId": "2a0e47c0-1acc-4b8c-beb0-9d72c50cfb4e",
        "colab": {
          "base_uri": "https://localhost:8080/",
          "height": 52
        }
      },
      "source": [
        "#We applied tfidf lets try count vectorizer on first,second and the on both the columns\n",
        "import nltk\n",
        "nltk.download('punkt')\n",
        "from sklearn.feature_extraction.text import CountVectorizer\n",
        "count_vectorizer = CountVectorizer(\n",
        "    analyzer=\"word\", tokenizer=nltk.word_tokenize,\n",
        "    preprocessor=None, stop_words='english', max_features=None)   \n"
      ],
      "execution_count": 37,
      "outputs": [
        {
          "output_type": "stream",
          "text": [
            "[nltk_data] Downloading package punkt to /root/nltk_data...\n",
            "[nltk_data]   Unzipping tokenizers/punkt.zip.\n"
          ],
          "name": "stdout"
        }
      ]
    },
    {
      "cell_type": "code",
      "metadata": {
        "id": "PZ-w4Jma7E4L",
        "colab_type": "code",
        "colab": {}
      },
      "source": [
        "#On title column recommendations\n",
        "bag_of_words_title = count_vectorizer.fit_transform(final_df['title'])\n",
        "\n",
        "\n",
        "#Finding the cosine similarities\n",
        "cosine_similarities = linear_kernel(bag_of_words_title,bag_of_words_title) \n",
        "results = {}\n",
        "idx = 0\n",
        "row = 0\n",
        "count = 0\n",
        "for idx, row in final_df.iterrows():\n",
        "   similar_indices = cosine_similarities[idx-1].argsort()[:-100:-1] \n",
        "   similar_items = [(cosine_similarities[idx-1][i], final_df['_id'][i]) for i in similar_indices] \n",
        "   results[row['_id']] = similar_items[1:]\n"
      ],
      "execution_count": 0,
      "outputs": []
    },
    {
      "cell_type": "code",
      "metadata": {
        "id": "AGUr9n3588TH",
        "colab_type": "code",
        "colab": {}
      },
      "source": [
        "def item(_id):  \n",
        "  return final_df.loc[final_df['_id'] == _id]['title'].tolist()[0].split(' - ')[0] \n",
        "\n",
        "def recommend(item_id, num):\n",
        "    print(\"Recommending \" + str(num) + \" products similar to \" + item(item_id) + \"...\")   \n",
        "    print(\"-------\")    \n",
        "    recs = results[item_id][:num]   \n",
        "    for rec in recs: \n",
        "       print(\"Recommended: \" + item(rec[1]) + \" (score:\" +      str(rec[0]) + \")\")"
      ],
      "execution_count": 0,
      "outputs": []
    },
    {
      "cell_type": "code",
      "metadata": {
        "id": "a0-AkjR69Iga",
        "colab_type": "code",
        "outputId": "d1909ef2-2d29-4d2b-81d6-bdcea7409104",
        "colab": {
          "base_uri": "https://localhost:8080/",
          "height": 225
        }
      },
      "source": [
        "#Recommendations result based on title column using count vectorizer\n",
        "recommend(item_id='5d60098a653a331687083238', num=10)"
      ],
      "execution_count": 40,
      "outputs": [
        {
          "output_type": "stream",
          "text": [
            "Recommending 10 products similar to configure docker with django  postgresql  pg admin   elasticsearch...\n",
            "-------\n",
            "Recommended: configure docker with django  postgresql  pg admin   elasticsearch (score:0.0)\n",
            "Recommended: fashion illustration (score:0.0)\n",
            "Recommended: launching an ec2 instance  (score:0.0)\n",
            "Recommended: keep working hard    (score:0.0)\n",
            "Recommended: configure docker with django  postgresql  pg admin   elasticsearch (score:0.0)\n",
            "Recommended: aws services and how to launch os on aws cloud (score:0.0)\n",
            "Recommended: fashion illustration (score:0.0)\n",
            "Recommended: configure docker with django  postgresql  pg admin   elasticsearch (score:0.0)\n",
            "Recommended: launching an ec2 instance  (score:0.0)\n",
            "Recommended: configure docker with django  postgresql  pg admin   elasticsearch (score:0.0)\n"
          ],
          "name": "stdout"
        }
      ]
    },
    {
      "cell_type": "code",
      "metadata": {
        "id": "VVJ3ocMH9kMu",
        "colab_type": "code",
        "colab": {}
      },
      "source": [
        "#count vectorizer based on category column only\n",
        "\n",
        "bag_of_words_category = count_vectorizer.fit_transform(final_df['category'])\n",
        "\n",
        "cosine_similarities = linear_kernel(bag_of_words_category,bag_of_words_category) \n",
        "results = {}\n",
        "idx = 0\n",
        "row = 0\n",
        "count = 0\n",
        "for idx, row in final_df.iterrows():\n",
        "   similar_indices = cosine_similarities[idx-1].argsort()[:-100:-1] \n",
        "   similar_items = [(cosine_similarities[idx-1][i], final_df['_id'][i]) for i in similar_indices] \n",
        "   results[row['_id']] = similar_items[1:]\n"
      ],
      "execution_count": 0,
      "outputs": []
    },
    {
      "cell_type": "code",
      "metadata": {
        "id": "paEfLV2C-Hpe",
        "colab_type": "code",
        "colab": {}
      },
      "source": [
        "def item(_id):  \n",
        "  return final_df.loc[final_df['_id'] == _id]['title'].tolist()[0].split(' - ')[0] \n",
        "\n",
        "def recommend(item_id, num):\n",
        "    print(\"Recommending \" + str(num) + \"posts similar to \" + item(item_id) + \"...\")   \n",
        "    print(\"-------\")    \n",
        "    recs = results[item_id][:num]   \n",
        "    for rec in recs: \n",
        "       print(\"Recommended: \" + item(rec[1]) + \" (score:\" +      str(rec[0]) + \")\")"
      ],
      "execution_count": 0,
      "outputs": []
    },
    {
      "cell_type": "code",
      "metadata": {
        "id": "twOOGx3P-KiT",
        "colab_type": "code",
        "outputId": "df75ee48-4ffc-4774-d832-cf870d7a1c9e",
        "colab": {
          "base_uri": "https://localhost:8080/",
          "height": 225
        }
      },
      "source": [
        "#Recommendation results based on category column only\n",
        "recommend(item_id='5d60098a653a331687083238', num=10)"
      ],
      "execution_count": 47,
      "outputs": [
        {
          "output_type": "stream",
          "text": [
            "Recommending 10posts similar to configure docker with django  postgresql  pg admin   elasticsearch...\n",
            "-------\n",
            "Recommended: configure docker with django  postgresql  pg admin   elasticsearch (score:0.0)\n",
            "Recommended: fashion illustration (score:0.0)\n",
            "Recommended: launching an ec2 instance  (score:0.0)\n",
            "Recommended: keep working hard    (score:0.0)\n",
            "Recommended: configure docker with django  postgresql  pg admin   elasticsearch (score:0.0)\n",
            "Recommended: aws services and how to launch os on aws cloud (score:0.0)\n",
            "Recommended: fashion illustration (score:0.0)\n",
            "Recommended: configure docker with django  postgresql  pg admin   elasticsearch (score:0.0)\n",
            "Recommended: launching an ec2 instance  (score:0.0)\n",
            "Recommended: configure docker with django  postgresql  pg admin   elasticsearch (score:0.0)\n"
          ],
          "name": "stdout"
        }
      ]
    },
    {
      "cell_type": "code",
      "metadata": {
        "id": "eoV9S2zQ-X_c",
        "colab_type": "code",
        "colab": {}
      },
      "source": [
        "#count vectorizer on both the columns\n",
        "#count vectorizer based on category column only\n",
        "\n",
        "cosine_similarities = linear_kernel(merged_mat,merged_mat) \n",
        "results = {}\n",
        "idx = 0\n",
        "row = 0\n",
        "count = 0\n",
        "for idx, row in final_df.iterrows():\n",
        "   similar_indices = cosine_similarities[idx-1].argsort()[:-100:-1] \n",
        "   similar_items = [(cosine_similarities[idx-1][i], final_df['_id'][i]) for i in similar_indices] \n",
        "   results[row['_id']] = similar_items[1:]\n"
      ],
      "execution_count": 0,
      "outputs": []
    },
    {
      "cell_type": "code",
      "metadata": {
        "id": "e8IYjZwX-tDb",
        "colab_type": "code",
        "colab": {}
      },
      "source": [
        "def item(_id):  \n",
        "  return final_df.loc[final_df['_id'] == _id]['title'].tolist()[0].split(' - ')[0] \n",
        "\n",
        "def recommend(item_id, num):\n",
        "    print(\"Recommending \" + str(num) + \" posts similar to \" + item(item_id) + \"...\")   \n",
        "    print(\"-------\")    \n",
        "    recs = results[item_id][:num]   \n",
        "    for rec in recs: \n",
        "       print(\"Recommended: \" + item(rec[1]) + \" (score:\" +      str(rec[0]) + \")\")"
      ],
      "execution_count": 0,
      "outputs": []
    },
    {
      "cell_type": "code",
      "metadata": {
        "id": "IrZscc25-vFE",
        "colab_type": "code",
        "outputId": "2da1e37a-cb77-4166-875a-1b83ada9ae71",
        "colab": {
          "base_uri": "https://localhost:8080/",
          "height": 225
        }
      },
      "source": [
        "#Recommending posts similar to a given post\n",
        "recommend(item_id='5d60098a653a331687083238', num=10)"
      ],
      "execution_count": 49,
      "outputs": [
        {
          "output_type": "stream",
          "text": [
            "Recommending 10 posts similar to configure docker with django  postgresql  pg admin   elasticsearch...\n",
            "-------\n",
            "Recommended: configure docker with django  postgresql  pg admin   elasticsearch (score:0.0)\n",
            "Recommended: fashion illustration (score:0.0)\n",
            "Recommended: launching an ec2 instance  (score:0.0)\n",
            "Recommended: keep working hard    (score:0.0)\n",
            "Recommended: configure docker with django  postgresql  pg admin   elasticsearch (score:0.0)\n",
            "Recommended: aws services and how to launch os on aws cloud (score:0.0)\n",
            "Recommended: fashion illustration (score:0.0)\n",
            "Recommended: configure docker with django  postgresql  pg admin   elasticsearch (score:0.0)\n",
            "Recommended: launching an ec2 instance  (score:0.0)\n",
            "Recommended: configure docker with django  postgresql  pg admin   elasticsearch (score:0.0)\n"
          ],
          "name": "stdout"
        }
      ]
    },
    {
      "cell_type": "code",
      "metadata": {
        "id": "KFh2GodejYhX",
        "colab_type": "code",
        "colab": {}
      },
      "source": [
        "#Recommending posts for a given user id\n",
        "\n",
        "def item(_id):  \n",
        "  return final_df.loc[final_df['_id'] == _id]['title'].tolist()[0].split(' - ')[0] \n",
        "\n",
        "def recommend(item_id, num):\n",
        "    print(\"Recommending \" + str(num) + \" posts for a given user id \" + item_id + \"...\")   \n",
        "    print(\"-------\")    \n",
        "    recs = results[item_id][:num]   \n",
        "    for rec in recs: \n",
        "       print(\"Recommended: \" + item(rec[1]) + \" (score:\" +      str(rec[0]) + \")\")"
      ],
      "execution_count": 0,
      "outputs": []
    },
    {
      "cell_type": "code",
      "metadata": {
        "id": "em8z0CAHkG1a",
        "colab_type": "code",
        "colab": {
          "base_uri": "https://localhost:8080/",
          "height": 225
        },
        "outputId": "9ef5be87-2d2f-480b-dc7b-5072c4f3e3be"
      },
      "source": [
        "#Recommendations result\n",
        "recommend(item_id='5d60098a653a331687083238', num=10)"
      ],
      "execution_count": 51,
      "outputs": [
        {
          "output_type": "stream",
          "text": [
            "Recommending 10 posts for a given user id 5d60098a653a331687083238...\n",
            "-------\n",
            "Recommended: configure docker with django  postgresql  pg admin   elasticsearch (score:0.0)\n",
            "Recommended: fashion illustration (score:0.0)\n",
            "Recommended: launching an ec2 instance  (score:0.0)\n",
            "Recommended: keep working hard    (score:0.0)\n",
            "Recommended: configure docker with django  postgresql  pg admin   elasticsearch (score:0.0)\n",
            "Recommended: aws services and how to launch os on aws cloud (score:0.0)\n",
            "Recommended: fashion illustration (score:0.0)\n",
            "Recommended: configure docker with django  postgresql  pg admin   elasticsearch (score:0.0)\n",
            "Recommended: launching an ec2 instance  (score:0.0)\n",
            "Recommended: configure docker with django  postgresql  pg admin   elasticsearch (score:0.0)\n"
          ],
          "name": "stdout"
        }
      ]
    }
  ]
}